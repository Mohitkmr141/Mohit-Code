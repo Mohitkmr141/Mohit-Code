{
 "cells": [
  {
   "cell_type": "code",
   "execution_count": 1,
   "metadata": {},
   "outputs": [],
   "source": [
    "class pwSkills:\n",
    "\n",
    "    def student_details(self , name , email):\n",
    "        print(name , email)\n",
    "        "
   ]
  },
  {
   "cell_type": "code",
   "execution_count": 2,
   "metadata": {},
   "outputs": [],
   "source": [
    "pw = pwSkills()"
   ]
  },
  {
   "cell_type": "code",
   "execution_count": 3,
   "metadata": {},
   "outputs": [
    {
     "name": "stdout",
     "output_type": "stream",
     "text": [
      "Mohit 123\n"
     ]
    }
   ],
   "source": [
    "pw.student_details(\"Mohit\" , \"123\")"
   ]
  },
  {
   "cell_type": "code",
   "execution_count": 27,
   "metadata": {},
   "outputs": [],
   "source": [
    "class pwSkills1:\n",
    "\n",
    "    def student_details(self , name , email):\n",
    "        print(name , email)\n",
    "\n",
    "    @staticmethod\n",
    "    def mentorClass(list_mentor):\n",
    "        print(list_mentor)\n",
    "    @staticmethod\n",
    "    def oneMore(self,mentor_list):\n",
    "        print(mentor_list)\n",
    "\n",
    "    "
   ]
  },
  {
   "cell_type": "code",
   "execution_count": 28,
   "metadata": {},
   "outputs": [],
   "source": [
    "stu1 = pwSkills1()"
   ]
  },
  {
   "cell_type": "code",
   "execution_count": 29,
   "metadata": {},
   "outputs": [
    {
     "name": "stdout",
     "output_type": "stream",
     "text": [
      "[1, 23, 4]\n"
     ]
    }
   ],
   "source": [
    "\n",
    "stu1.mentorClass([1,23,4])"
   ]
  },
  {
   "cell_type": "code",
   "execution_count": 31,
   "metadata": {},
   "outputs": [
    {
     "name": "stdout",
     "output_type": "stream",
     "text": [
      "['1', '2', '3']\n"
     ]
    }
   ],
   "source": [
    "stu1.oneMore([\"1\" , \"2\" , \"3\"])"
   ]
  },
  {
   "cell_type": "code",
   "execution_count": 39,
   "metadata": {},
   "outputs": [],
   "source": [
    "class pwSkills2:\n",
    "\n",
    "    def student_details(self , name , email):\n",
    "        print(name , email)\n",
    "\n",
    "    @staticmethod\n",
    "    def mentorClass(list_mentor):\n",
    "        print(list_mentor)\n",
    "    @staticmethod\n",
    "    def oneMore(self,mentor_list):\n",
    "        print(mentor_list)\n",
    "    \n",
    "    @staticmethod\n",
    "    def mentor_Id(mentorId):\n",
    "        print(mentorId)\n",
    "\n",
    "    @classmethod\n",
    "    def className(cls):\n",
    "        cls.mentorClass([\"1\" , \"2\"])\n",
    "        pwSkills2.mentor_Id(['1' ,'sff'])\n",
    "   \n",
    "\n",
    "    "
   ]
  },
  {
   "cell_type": "code",
   "execution_count": 40,
   "metadata": {},
   "outputs": [],
   "source": [
    "stu2 = pwSkills2()"
   ]
  },
  {
   "cell_type": "code",
   "execution_count": 41,
   "metadata": {},
   "outputs": [
    {
     "name": "stdout",
     "output_type": "stream",
     "text": [
      "[1, 2, 3, 4, 5]\n"
     ]
    }
   ],
   "source": [
    "stu2.mentorClass([1,2,3,4,5])"
   ]
  },
  {
   "cell_type": "code",
   "execution_count": 42,
   "metadata": {},
   "outputs": [
    {
     "name": "stdout",
     "output_type": "stream",
     "text": [
      "[1, 2, 3, 4, 5, 6, 7]\n"
     ]
    }
   ],
   "source": [
    "stu2.mentorClass([1,2,3,4,5,6,7])"
   ]
  },
  {
   "cell_type": "code",
   "execution_count": null,
   "metadata": {},
   "outputs": [],
   "source": []
  }
 ],
 "metadata": {
  "kernelspec": {
   "display_name": "Python 3",
   "language": "python",
   "name": "python3"
  },
  "language_info": {
   "codemirror_mode": {
    "name": "ipython",
    "version": 3
   },
   "file_extension": ".py",
   "mimetype": "text/x-python",
   "name": "python",
   "nbconvert_exporter": "python",
   "pygments_lexer": "ipython3",
   "version": "3.11.3"
  },
  "orig_nbformat": 4
 },
 "nbformat": 4,
 "nbformat_minor": 2
}
