{
 "cells": [
  {
   "cell_type": "code",
   "execution_count": null,
   "metadata": {},
   "outputs": [],
   "source": [
    "def binarySearch(arr, key):\n",
    "\n",
    "    start = 0\n",
    "    end = arr-1\n",
    "    mid = start + (end - start)/2\n",
    "    while (start <= end):\n",
    "        if (arr[mid] == key):\n",
    "          return mid\n",
    "        \n",
    "        if(key > mid):\n",
    "           \n",
    "           mid = "
   ]
  }
 ],
 "metadata": {
  "language_info": {
   "name": "python"
  },
  "orig_nbformat": 4
 },
 "nbformat": 4,
 "nbformat_minor": 2
}
